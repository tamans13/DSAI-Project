{
 "cells": [
  {
   "cell_type": "markdown",
   "id": "8dbeab78",
   "metadata": {},
   "source": [
    "# Exploratory Data Analysis"
   ]
  },
  {
   "cell_type": "markdown",
   "id": "352373d1",
   "metadata": {},
   "source": [
    "## Now, we will make 'salary_in_usd' into a categorical data with 4 levels."
   ]
  },
  {
   "cell_type": "code",
   "execution_count": 16,
   "id": "1a65634b",
   "metadata": {},
   "outputs": [
    {
     "data": {
      "text/html": [
       "<div>\n",
       "<style scoped>\n",
       "    .dataframe tbody tr th:only-of-type {\n",
       "        vertical-align: middle;\n",
       "    }\n",
       "\n",
       "    .dataframe tbody tr th {\n",
       "        vertical-align: top;\n",
       "    }\n",
       "\n",
       "    .dataframe thead th {\n",
       "        text-align: right;\n",
       "    }\n",
       "</style>\n",
       "<table border=\"1\" class=\"dataframe\">\n",
       "  <thead>\n",
       "    <tr style=\"text-align: right;\">\n",
       "      <th></th>\n",
       "      <th>work_year</th>\n",
       "      <th>experience_level</th>\n",
       "      <th>job_title</th>\n",
       "      <th>salary_in_usd</th>\n",
       "      <th>work_setting</th>\n",
       "      <th>company_size</th>\n",
       "      <th>job_category</th>\n",
       "      <th>salary_category</th>\n",
       "    </tr>\n",
       "  </thead>\n",
       "  <tbody>\n",
       "    <tr>\n",
       "      <th>7</th>\n",
       "      <td>2024</td>\n",
       "      <td>Entry-level</td>\n",
       "      <td>Insight Analyst</td>\n",
       "      <td>50000</td>\n",
       "      <td>Remote</td>\n",
       "      <td>M</td>\n",
       "      <td>Data Analysis</td>\n",
       "      <td>Low</td>\n",
       "    </tr>\n",
       "    <tr>\n",
       "      <th>8</th>\n",
       "      <td>2024</td>\n",
       "      <td>Entry-level</td>\n",
       "      <td>Insight Analyst</td>\n",
       "      <td>40000</td>\n",
       "      <td>Remote</td>\n",
       "      <td>M</td>\n",
       "      <td>Data Analysis</td>\n",
       "      <td>Low</td>\n",
       "    </tr>\n",
       "    <tr>\n",
       "      <th>9</th>\n",
       "      <td>2024</td>\n",
       "      <td>Senior</td>\n",
       "      <td>Data Engineer</td>\n",
       "      <td>276000</td>\n",
       "      <td>In-person</td>\n",
       "      <td>M</td>\n",
       "      <td>Data Engineering</td>\n",
       "      <td>High</td>\n",
       "    </tr>\n",
       "    <tr>\n",
       "      <th>10</th>\n",
       "      <td>2024</td>\n",
       "      <td>Senior</td>\n",
       "      <td>Data Engineer</td>\n",
       "      <td>148000</td>\n",
       "      <td>In-person</td>\n",
       "      <td>M</td>\n",
       "      <td>Data Engineering</td>\n",
       "      <td>Medium High</td>\n",
       "    </tr>\n",
       "    <tr>\n",
       "      <th>11</th>\n",
       "      <td>2024</td>\n",
       "      <td>Senior</td>\n",
       "      <td>Research Scientist</td>\n",
       "      <td>234000</td>\n",
       "      <td>In-person</td>\n",
       "      <td>M</td>\n",
       "      <td>Data Science and Research</td>\n",
       "      <td>High</td>\n",
       "    </tr>\n",
       "  </tbody>\n",
       "</table>\n",
       "</div>"
      ],
      "text/plain": [
       "    work_year experience_level           job_title  salary_in_usd  \\\n",
       "7        2024      Entry-level     Insight Analyst          50000   \n",
       "8        2024      Entry-level     Insight Analyst          40000   \n",
       "9        2024           Senior       Data Engineer         276000   \n",
       "10       2024           Senior       Data Engineer         148000   \n",
       "11       2024           Senior  Research Scientist         234000   \n",
       "\n",
       "   work_setting company_size               job_category salary_category  \n",
       "7        Remote            M              Data Analysis             Low  \n",
       "8        Remote            M              Data Analysis             Low  \n",
       "9     In-person            M           Data Engineering            High  \n",
       "10    In-person            M           Data Engineering     Medium High  \n",
       "11    In-person            M  Data Science and Research            High  "
      ]
     },
     "execution_count": 16,
     "metadata": {},
     "output_type": "execute_result"
    }
   ],
   "source": [
    "### Defining variables\n",
    "low = df['salary_in_usd'].quantile(0.20) ##Q1\n",
    "medium_low = df['salary_in_usd'].quantile(0.50)\n",
    "medium_high = df['salary_in_usd'].quantile(0.80)\n",
    "\n",
    "### Setting categories\n",
    "def get_salary_category(salary_in_usd):\n",
    "    if salary_in_usd <= low:\n",
    "        return 'Low'\n",
    "    if low < salary_in_usd <= medium_low:\n",
    "        return 'Medium Low'\n",
    "    if medium_low < salary_in_usd <= medium_high:\n",
    "        return 'Medium High'\n",
    "    if salary_in_usd > medium_high:\n",
    "        return 'High'\n",
    "\n",
    "df['salary_category'] = df['salary_in_usd'].apply(get_salary_category)\n",
    "df.head()"
   ]
  },
  {
   "cell_type": "markdown",
   "id": "49253a46",
   "metadata": {},
   "source": [
    "## Next, we plot the boxplot for experience level against salary."
   ]
  },
  {
   "cell_type": "code",
   "execution_count": 87,
   "id": "f1353d44",
   "metadata": {},
   "outputs": [
    {
     "data": {
      "text/plain": [
       "<Axes: xlabel='experience_level', ylabel='salary_in_usd'>"
      ]
     },
     "execution_count": 87,
     "metadata": {},
     "output_type": "execute_result"
    },
    {
     "data": {
      "image/png": "[encoded data removed]",
      "text/plain": [
       "<Figure size 640x480 with 1 Axes>"
      ]
     },
     "metadata": {},
     "output_type": "display_data"
    }
   ],
   "source": [
    "df = df[df['experience_level'].isin(['Entry-level','Mid-level','Senior'])] \n",
    "sb.boxplot(x='experience_level',y ='salary_in_usd', data = df)"
   ]
  },
  {
   "cell_type": "markdown",
   "id": "bcf35a42",
   "metadata": {},
   "source": [
    "## Now, we plot the box plot of work_setting against salary."
   ]
  },
  {
   "cell_type": "code",
   "execution_count": 18,
   "id": "991a7254",
   "metadata": {},
   "outputs": [
    {
     "data": {
      "text/plain": [
       "<Axes: xlabel='work_setting', ylabel='salary_in_usd'>"
      ]
     },
     "execution_count": 18,
     "metadata": {},
     "output_type": "execute_result"
    },
    {
     "data": {
      "image/png": "[encoded data removed]",
      "text/plain": [
       "<Figure size 640x480 with 1 Axes>"
      ]
     },
     "metadata": {},
     "output_type": "display_data"
    }
   ],
   "source": [
    "df = df[df['work_setting'].isin(['Remote','In-person'])] \n",
    "sb.boxplot(x='work_setting',y ='salary_in_usd', data = df)"
   ]
  },
  {
   "cell_type": "markdown",
   "id": "f15962c6",
   "metadata": {},
   "source": [
    "## Now, the box plot for company_size against salary. "
   ]
  },
  {
   "cell_type": "code",
   "execution_count": 19,
   "id": "2a50c5de",
   "metadata": {},
   "outputs": [
    {
     "data": {
      "text/plain": [
       "<Axes: xlabel='company_size', ylabel='salary_in_usd'>"
      ]
     },
     "execution_count": 19,
     "metadata": {},
     "output_type": "execute_result"
    },
    {
     "data": {
      "image/png": "[encoded data removed]",
      "text/plain": [
       "<Figure size 640x480 with 1 Axes>"
      ]
     },
     "metadata": {},
     "output_type": "display_data"
    }
   ],
   "source": [
    "df = df[df['company_size'].isin(['M','L'])] \n",
    "sb.boxplot(x='company_size',y ='salary_in_usd', data = df)"
   ]
  },
  {
   "cell_type": "markdown",
   "id": "acf3732a",
   "metadata": {},
   "source": [
    "## Now, the box plot for job_category against salary."
   ]
  },
  {
   "cell_type": "code",
   "execution_count": 20,
   "id": "0e6021a0",
   "metadata": {},
   "outputs": [
    {
     "data": {
      "text/plain": [
       "<Axes: xlabel='job_category', ylabel='salary_in_usd'>"
      ]
     },
     "execution_count": 20,
     "metadata": {},
     "output_type": "execute_result"
    },
    {
     "data": {
      "image/png": "[encoded data removed]",
      "text/plain": [
       "<Figure size 640x480 with 1 Axes>"
      ]
     },
     "metadata": {},
     "output_type": "display_data"
    }
   ],
   "source": [
    "df = df[df['job_category'].isin(['BI and Visualization','Data Analysis', 'Data Engineering','Data Science and Research','Leadership and Management','Machine Learning and AI'])] \n",
    "sb.boxplot(x='job_category',y ='salary_in_usd', data = df)"
   ]
  },
  {
   "cell_type": "markdown",
   "id": "27b8dab4",
   "metadata": {},
   "source": [
    "## Now, we will convert the categorical data into numerical data that can be used for analysis. "
   ]
  },
  {
   "cell_type": "code",
   "execution_count": 35,
   "id": "5ddb65ec",
   "metadata": {},
   "outputs": [],
   "source": [
    "df_duplicate = df.copy()"
   ]
  },
  {
   "cell_type": "code",
   "execution_count": 36,
   "id": "c809f1ea",
   "metadata": {},
   "outputs": [],
   "source": [
    "df_duplicate['experience_level'].replace(['Entry-level', 'Mid-level', 'Senior'], [0, 1, 2], inplace = True)\n",
    "df_duplicate['work_setting'].replace(['Remote', 'In-person'], [0, 1], inplace = True)\n",
    "df_duplicate['company_size'].replace(['M', 'L'], [0, 1], inplace = True)\n",
    "df_duplicate['job_category'].replace(['Data Analysis', 'Data Engineering', 'Data Science and Research', 'BI and Visualization', 'Leadership and Management', 'Machine Learning and AI'], [0, 1, 2, 3, 4, 5], inplace = True)\n",
    "df_duplicate['salary_category'].replace(['Low', 'Medium Low', 'Medium High', 'High'], [0, 1, 2, 3], inplace = True)"
   ]
  },
  {
   "cell_type": "code",
   "execution_count": 37,
   "id": "adc49139",
   "metadata": {
    "scrolled": true
   },
   "outputs": [
    {
     "data": {
      "text/html": [
       "<div>\n",
       "<style scoped>\n",
       "    .dataframe tbody tr th:only-of-type {\n",
       "        vertical-align: middle;\n",
       "    }\n",
       "\n",
       "    .dataframe tbody tr th {\n",
       "        vertical-align: top;\n",
       "    }\n",
       "\n",
       "    .dataframe thead th {\n",
       "        text-align: right;\n",
       "    }\n",
       "</style>\n",
       "<table border=\"1\" class=\"dataframe\">\n",
       "  <thead>\n",
       "    <tr style=\"text-align: right;\">\n",
       "      <th></th>\n",
       "      <th>experience_level</th>\n",
       "      <th>work_setting</th>\n",
       "      <th>company_size</th>\n",
       "      <th>job_category</th>\n",
       "      <th>salary_category</th>\n",
       "    </tr>\n",
       "  </thead>\n",
       "  <tbody>\n",
       "    <tr>\n",
       "      <th>7</th>\n",
       "      <td>0</td>\n",
       "      <td>0</td>\n",
       "      <td>0</td>\n",
       "      <td>0</td>\n",
       "      <td>0</td>\n",
       "    </tr>\n",
       "    <tr>\n",
       "      <th>8</th>\n",
       "      <td>0</td>\n",
       "      <td>0</td>\n",
       "      <td>0</td>\n",
       "      <td>0</td>\n",
       "      <td>0</td>\n",
       "    </tr>\n",
       "    <tr>\n",
       "      <th>9</th>\n",
       "      <td>2</td>\n",
       "      <td>1</td>\n",
       "      <td>0</td>\n",
       "      <td>1</td>\n",
       "      <td>3</td>\n",
       "    </tr>\n",
       "    <tr>\n",
       "      <th>10</th>\n",
       "      <td>2</td>\n",
       "      <td>1</td>\n",
       "      <td>0</td>\n",
       "      <td>1</td>\n",
       "      <td>2</td>\n",
       "    </tr>\n",
       "    <tr>\n",
       "      <th>11</th>\n",
       "      <td>2</td>\n",
       "      <td>1</td>\n",
       "      <td>0</td>\n",
       "      <td>2</td>\n",
       "      <td>3</td>\n",
       "    </tr>\n",
       "    <tr>\n",
       "      <th>...</th>\n",
       "      <td>...</td>\n",
       "      <td>...</td>\n",
       "      <td>...</td>\n",
       "      <td>...</td>\n",
       "      <td>...</td>\n",
       "    </tr>\n",
       "    <tr>\n",
       "      <th>14185</th>\n",
       "      <td>2</td>\n",
       "      <td>0</td>\n",
       "      <td>0</td>\n",
       "      <td>2</td>\n",
       "      <td>2</td>\n",
       "    </tr>\n",
       "    <tr>\n",
       "      <th>14186</th>\n",
       "      <td>1</td>\n",
       "      <td>0</td>\n",
       "      <td>0</td>\n",
       "      <td>2</td>\n",
       "      <td>1</td>\n",
       "    </tr>\n",
       "    <tr>\n",
       "      <th>14187</th>\n",
       "      <td>1</td>\n",
       "      <td>0</td>\n",
       "      <td>0</td>\n",
       "      <td>2</td>\n",
       "      <td>1</td>\n",
       "    </tr>\n",
       "    <tr>\n",
       "      <th>14188</th>\n",
       "      <td>1</td>\n",
       "      <td>0</td>\n",
       "      <td>0</td>\n",
       "      <td>1</td>\n",
       "      <td>1</td>\n",
       "    </tr>\n",
       "    <tr>\n",
       "      <th>14196</th>\n",
       "      <td>1</td>\n",
       "      <td>0</td>\n",
       "      <td>1</td>\n",
       "      <td>2</td>\n",
       "      <td>2</td>\n",
       "    </tr>\n",
       "  </tbody>\n",
       "</table>\n",
       "<p>11349 rows × 5 columns</p>\n",
       "</div>"
      ],
      "text/plain": [
       "       experience_level  work_setting  company_size  job_category  \\\n",
       "7                     0             0             0             0   \n",
       "8                     0             0             0             0   \n",
       "9                     2             1             0             1   \n",
       "10                    2             1             0             1   \n",
       "11                    2             1             0             2   \n",
       "...                 ...           ...           ...           ...   \n",
       "14185                 2             0             0             2   \n",
       "14186                 1             0             0             2   \n",
       "14187                 1             0             0             2   \n",
       "14188                 1             0             0             1   \n",
       "14196                 1             0             1             2   \n",
       "\n",
       "       salary_category  \n",
       "7                    0  \n",
       "8                    0  \n",
       "9                    3  \n",
       "10                   2  \n",
       "11                   3  \n",
       "...                ...  \n",
       "14185                2  \n",
       "14186                1  \n",
       "14187                1  \n",
       "14188                1  \n",
       "14196                2  \n",
       "\n",
       "[11349 rows x 5 columns]"
      ]
     },
     "execution_count": 37,
     "metadata": {},
     "output_type": "execute_result"
    }
   ],
   "source": [
    "new_df = df_duplicate[['experience_level', 'work_setting', 'company_size', 'job_category', 'salary_category']].copy()\n",
    "new_df"
   ]
  },
  {
   "cell_type": "markdown",
   "id": "4a7f2d28",
   "metadata": {},
   "source": [
    "## Performing Cramer's V Test to find correlation between each categorical variable with salary."
   ]
  },
  {
   "cell_type": "code",
   "execution_count": 38,
   "id": "ba40d23c",
   "metadata": {
    "scrolled": true
   },
   "outputs": [
    {
     "name": "stdout",
     "output_type": "stream",
     "text": [
      "Cramér's V between 'salary_category' and 'experience_level': 0.2536934876376228\n",
      "Cramér's V between 'salary_category' and 'work_setting': 0.08818612504174299\n",
      "Cramér's V between 'salary_category' and 'company_size': 0.07920845313704636\n",
      "Cramér's V between 'salary_category' and 'job_category': 0.2468278606178054\n"
     ]
    }
   ],
   "source": [
    "### Cramer's V\n",
    "from scipy.stats import chi2_contingency\n",
    "def cramers_v(confusion_matrix):\n",
    "    chi2 = chi2_contingency(confusion_matrix)[0]\n",
    "    n = confusion_matrix.sum().sum()\n",
    "    phi2 = chi2 / n\n",
    "    r, k = confusion_matrix.shape\n",
    "    phi2corr = max(0, phi2 - ((k-1)*(r-1))/(n-1))\n",
    "    rcorr = r - ((r-1)**2)/(n-1)\n",
    "    kcorr = k - ((k-1)**2)/(n-1)\n",
    "    return np.sqrt(phi2corr / min((kcorr-1), (rcorr-1)))\n",
    "\n",
    "# Loop through each categorical variable\n",
    "for column in new_df.columns[:-1]:  # Exclude the target variable 'salary_category'\n",
    "    confusion_matrix = pd.crosstab(new_df['salary_category'], new_df[column])\n",
    "    if confusion_matrix.values.size == 0:\n",
    "        print(f\"No data for '{column}'. Skipping calculation of Cramér's V.\")\n",
    "    else:\n",
    "        v = cramers_v(confusion_matrix)\n",
    "        print(f\"Cramér's V between 'salary_category' and '{column}': {v}\")"
   ]
  },
  {
   "cell_type": "markdown",
   "id": "544438f6",
   "metadata": {},
   "source": [
    "## Finding top variable based on Chi-square scores to determine its importance in determining result of the target variable 'salary_category'."
   ]
  },
  {
   "cell_type": "code",
   "execution_count": 46,
   "id": "258c36e4",
   "metadata": {},
   "outputs": [
    {
     "name": "stdout",
     "output_type": "stream",
     "text": [
      "[ 313.58331617   28.46326774   70.02626807 1234.91019436]\n"
     ]
    }
   ],
   "source": [
    "#We use Chi2score>100 and k=38\n",
    "\n",
    "from sklearn.feature_selection import SelectKBest\n",
    "from sklearn.feature_selection import chi2\n",
    "\n",
    "k = min(38, new_df.shape[1] - 1)\n",
    "category_rank_feature = SelectKBest(score_func=chi2, k=k)\n",
    "features = new_df.drop(columns=['salary_category'])\n",
    "target = new_df['salary_category']\n",
    "rank_feature = category_rank_feature.fit(features, target)\n",
    "print(rank_feature.scores_)"
   ]
  },
  {
   "cell_type": "markdown",
   "id": "7c2efe02",
   "metadata": {},
   "source": [
    "## Finding the ranking of variables in ascending order. "
   ]
  },
  {
   "cell_type": "code",
   "execution_count": 49,
   "id": "18d9447c",
   "metadata": {},
   "outputs": [
    {
     "data": {
      "text/html": [
       "<div>\n",
       "<style scoped>\n",
       "    .dataframe tbody tr th:only-of-type {\n",
       "        vertical-align: middle;\n",
       "    }\n",
       "\n",
       "    .dataframe tbody tr th {\n",
       "        vertical-align: top;\n",
       "    }\n",
       "\n",
       "    .dataframe thead th {\n",
       "        text-align: right;\n",
       "    }\n",
       "</style>\n",
       "<table border=\"1\" class=\"dataframe\">\n",
       "  <thead>\n",
       "    <tr style=\"text-align: right;\">\n",
       "      <th></th>\n",
       "      <th>Score</th>\n",
       "    </tr>\n",
       "    <tr>\n",
       "      <th>Feature</th>\n",
       "      <th></th>\n",
       "    </tr>\n",
       "  </thead>\n",
       "  <tbody>\n",
       "    <tr>\n",
       "      <th>job_category</th>\n",
       "      <td>1234.910194</td>\n",
       "    </tr>\n",
       "    <tr>\n",
       "      <th>experience_level</th>\n",
       "      <td>313.583316</td>\n",
       "    </tr>\n",
       "    <tr>\n",
       "      <th>company_size</th>\n",
       "      <td>70.026268</td>\n",
       "    </tr>\n",
       "    <tr>\n",
       "      <th>work_setting</th>\n",
       "      <td>28.463268</td>\n",
       "    </tr>\n",
       "    <tr>\n",
       "      <th>salary_category</th>\n",
       "      <td>NaN</td>\n",
       "    </tr>\n",
       "  </tbody>\n",
       "</table>\n",
       "</div>"
      ],
      "text/plain": [
       "                        Score\n",
       "Feature                      \n",
       "job_category      1234.910194\n",
       "experience_level   313.583316\n",
       "company_size        70.026268\n",
       "work_setting        28.463268\n",
       "salary_category           NaN"
      ]
     },
     "execution_count": 49,
     "metadata": {},
     "output_type": "execute_result"
    }
   ],
   "source": [
    "cat_score = pd.DataFrame(rank_feature.scores_, columns=['Score'])\n",
    "cat_col = pd.DataFrame(new_df.columns, columns=['Feature'])\n",
    "univariate_cat_rank = pd.concat([cat_col, cat_score], axis=1)\n",
    "univariate_cat_rank.set_index('Feature', inplace=True)\n",
    "sorted_univariate_cat_rank = univariate_cat_rank.sort_values('Score', ascending=False)\n",
    "sorted_univariate_cat_rank"
   ]
  },
  {
   "cell_type": "markdown",
   "id": "59bf663a",
   "metadata": {},
   "source": [
    "## Splitting dataset into train and test data."
   ]
  },
  {
   "cell_type": "code",
   "execution_count": 59,
   "id": "ded607da",
   "metadata": {},
   "outputs": [
    {
     "name": "stdout",
     "output_type": "stream",
     "text": [
      "Shape of X_train: (9079, 4)\n",
      "Shape of X_test: (2270, 4)\n",
      "Shape of y_train: (9079,)\n",
      "Shape of y_test: (2270,)\n"
     ]
    }
   ],
   "source": [
    "from sklearn.model_selection import train_test_split\n",
    "\n",
    "# Define features and target variable\n",
    "X = new_df.drop(columns=['salary_category'])  # Features\n",
    "y = new_df['salary_category']  # Target variable\n",
    "\n",
    "# Split the dataset into training and testing sets\n",
    "X_train, X_test, y_train, y_test = train_test_split(X, y, test_size=0.2, random_state=42)\n",
    "\n",
    "# Print the shapes of the training and testing sets\n",
    "print(\"Shape of X_train:\", X_train.shape)\n",
    "print(\"Shape of X_test:\", X_test.shape)\n",
    "print(\"Shape of y_train:\", y_train.shape)\n",
    "print(\"Shape of y_test:\", y_test.shape)"
   ]
  },
  {
   "cell_type": "code",
   "execution_count": null,
   "id": "92763701",
   "metadata": {},
   "outputs": [],
   "source": []
  }
 ],
 "metadata": {
  "kernelspec": {
   "display_name": "Python 3 (ipykernel)",
   "language": "python",
   "name": "python3"
  },
  "language_info": {
   "codemirror_mode": {
    "name": "ipython",
    "version": 3
   },
   "file_extension": ".py",
   "mimetype": "text/x-python",
   "name": "python",
   "nbconvert_exporter": "python",
   "pygments_lexer": "ipython3",
   "version": "3.11.5"
  }
 },
 "nbformat": 4,
 "nbformat_minor": 5
}
