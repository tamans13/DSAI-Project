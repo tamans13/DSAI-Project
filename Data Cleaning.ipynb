{
 "cells": [
  {
   "cell_type": "markdown",
   "id": "fd211184",
   "metadata": {},
   "source": [
    "# Data Cleaning"
   ]
  },
  {
   "cell_type": "markdown",
   "id": "bc868bfe",
   "metadata": {},
   "source": [
    "## Importing libraries."
   ]
  },
  {
   "cell_type": "code",
   "execution_count": 2,
   "id": "0089417e",
   "metadata": {
    "scrolled": true
   },
   "outputs": [
    {
     "name": "stderr",
     "output_type": "stream",
     "text": [
      "C:\\Users\\taman\\anaconda3\\Lib\\site-packages\\pandas\\core\\arrays\\masked.py:60: UserWarning: Pandas requires version '1.3.6' or newer of 'bottleneck' (version '1.3.5' currently installed).\n",
      "  from pandas.core import (\n"
     ]
    }
   ],
   "source": [
    "from sklearn.linear_model import LinearRegression\n",
    "from sklearn.metrics import mean_squared_error\n",
    "from sklearn.model_selection import train_test_split\n",
    "\n",
    "from pandas.api.types import is_numeric_dtype\n",
    "from sklearn.tree import DecisionTreeClassifier\n",
    "from sklearn.model_selection import train_test_split\n",
    "from sklearn.metrics import confusion_matrix\n",
    "from sklearn.preprocessing import OrdinalEncoder\n",
    "from sklearn.tree import plot_tree\n",
    "\n",
    "\n",
    "import pandas as pd\n",
    "import numpy as np\n",
    "import seaborn as sb\n",
    "import matplotlib.pyplot as plt\n",
    "\n",
    "\n",
    "from IPython.core import display as ICD\n",
    "from math import ceil\n",
    "from scipy import stats\n",
    "\n",
    "data = pd.read_csv('jobs_in_data_2024.csv')\n",
    "df = pd.DataFrame(data)"
   ]
  },
  {
   "cell_type": "markdown",
   "id": "e891d9bb",
   "metadata": {},
   "source": [
    "## We start by extracting the specific data we want where we drop those that occupies a small proportion of the data."
   ]
  },
  {
   "cell_type": "code",
   "execution_count": 3,
   "id": "1dcdb72d",
   "metadata": {},
   "outputs": [],
   "source": [
    "data =  {'experience_level':['Entry-level', 'Executive', 'Mid-level', 'Senior'], 'employment_type':['Contract', 'Freelance', 'Full-time', 'Part-time'], 'company_size':['L', 'M', 'S'], 'company_location':['Algeria','American Samoa','Andorra','Argentina','Armenia','Australia','Austria','Bahamas','Belgium','Bosnia and Herzegovina','Brazil','Canada','Central African Republic','China','Colombia','Croatia','Czechia','Denmark','Ecuador','Egypt','Estonia','Finland','France','Germany','Ghana','Gibraltar','Greece','Honduras','Hungary','India','Indonesia','Iran, Islamic Republic of','Iraq','Ireland','Israel','Italy','Japan','Kenya','Korea, Republic of','Latvia','Lebanon','Lithuania','Luxembourg','Malaysia','Malta','Mauritius','Mexico','Moldova, Republic of','Netherlands','New Zealand','Nigeria','Oman','Pakistan','Philippines','Poland','Portugal','Puerto Rico','Qatar','Romania','Russian Federation','Saudi Arabia','Singapore','Slovenia','South Africa','Spain','Sweden','Switzerland','T√ºrkiye','Thailand','Ukraine','United Arab Emirates','United Kingdom','United States','Viet Nam'],'job_category':['BI and Visualization','Cloud and Database','Data Analysis','Data Architecture and Modeling','Data Engineering','Data Management and Strategy','Data Quality and Operations','Data Science and Research','Leadership and Management','Machine Learning and AI'],'work_setting':['Hybrid','In-person','Remote']}\n",
    "\n",
    "df = df[df['experience_level']!= 'Executive']\n",
    "df = df[(df['employment_type'] != 'Contract') & (df['employment_type'] != 'Freelance') & (df['employment_type'] != 'Part-time')]\n",
    "df = df[df['company_size'] != 'S']\n",
    "df = df[df['company_location'] == 'United States']\n",
    "df = df[(df['job_category'] != 'Cloud and Database') & (df['job_category'] != 'Data Management and Strategy') & (df['job_category']!= 'Data Quality and Operations') & (df['job_category'] != 'Data Architecture and Modeling')]\n",
    "df = df[df['work_setting'] != 'Hybrid']"
   ]
  },
  {
   "cell_type": "markdown",
   "id": "064ddd43",
   "metadata": {},
   "source": [
    "## Next, we drop the unnecessary columns that are not variables which we want to analyse."
   ]
  },
  {
   "cell_type": "code",
   "execution_count": 4,
   "id": "ebb9be54",
   "metadata": {},
   "outputs": [
    {
     "name": "stdout",
     "output_type": "stream",
     "text": [
      "       work_year experience_level                 job_title  salary_in_usd  \\\n",
      "7           2024      Entry-level           Insight Analyst          50000   \n",
      "8           2024      Entry-level           Insight Analyst          40000   \n",
      "9           2024           Senior             Data Engineer         276000   \n",
      "10          2024           Senior             Data Engineer         148000   \n",
      "11          2024           Senior        Research Scientist         234000   \n",
      "...          ...              ...                       ...            ...   \n",
      "14186       2020        Mid-level            Data Scientist         118000   \n",
      "14187       2020        Mid-level            Data Scientist         138350   \n",
      "14188       2020        Mid-level             Data Engineer         130800   \n",
      "14195       2020           Senior            Data Scientist         412000   \n",
      "14196       2021        Mid-level  Principal Data Scientist         151000   \n",
      "\n",
      "      work_setting company_size               job_category  \n",
      "7           Remote            M              Data Analysis  \n",
      "8           Remote            M              Data Analysis  \n",
      "9        In-person            M           Data Engineering  \n",
      "10       In-person            M           Data Engineering  \n",
      "11       In-person            M  Data Science and Research  \n",
      "...            ...          ...                        ...  \n",
      "14186       Remote            M  Data Science and Research  \n",
      "14187       Remote            M  Data Science and Research  \n",
      "14188       Remote            M           Data Engineering  \n",
      "14195       Remote            L  Data Science and Research  \n",
      "14196       Remote            L  Data Science and Research  \n",
      "\n",
      "[11430 rows x 7 columns]\n"
     ]
    }
   ],
   "source": [
    "df = df.drop(columns = ['salary', 'salary_currency','employee_residence','company_location','employment_type'])\n",
    "print(df)"
   ]
  },
  {
   "cell_type": "markdown",
   "id": "2458d84e",
   "metadata": {},
   "source": [
    "## Next, we check for any null values in each variable so that we can remove them. "
   ]
  },
  {
   "cell_type": "code",
   "execution_count": 5,
   "id": "8359a0ea",
   "metadata": {},
   "outputs": [
    {
     "name": "stdout",
     "output_type": "stream",
     "text": [
      "work_year           0\n",
      "experience_level    0\n",
      "job_title           0\n",
      "salary_in_usd       0\n",
      "work_setting        0\n",
      "company_size        0\n",
      "job_category        0\n",
      "dtype: int64\n"
     ]
    }
   ],
   "source": [
    "print (df.isnull().sum())"
   ]
  },
  {
   "cell_type": "code",
   "execution_count": 6,
   "id": "61154384",
   "metadata": {
    "scrolled": true
   },
   "outputs": [
    {
     "data": {
      "text/html": [
       "<div>\n",
       "<style scoped>\n",
       "    .dataframe tbody tr th:only-of-type {\n",
       "        vertical-align: middle;\n",
       "    }\n",
       "\n",
       "    .dataframe tbody tr th {\n",
       "        vertical-align: top;\n",
       "    }\n",
       "\n",
       "    .dataframe thead th {\n",
       "        text-align: right;\n",
       "    }\n",
       "</style>\n",
       "<table border=\"1\" class=\"dataframe\">\n",
       "  <thead>\n",
       "    <tr style=\"text-align: right;\">\n",
       "      <th></th>\n",
       "      <th>work_year</th>\n",
       "      <th>experience_level</th>\n",
       "      <th>job_title</th>\n",
       "      <th>salary_in_usd</th>\n",
       "      <th>work_setting</th>\n",
       "      <th>company_size</th>\n",
       "      <th>job_category</th>\n",
       "    </tr>\n",
       "  </thead>\n",
       "  <tbody>\n",
       "    <tr>\n",
       "      <th>7</th>\n",
       "      <td>2024</td>\n",
       "      <td>Entry-level</td>\n",
       "      <td>Insight Analyst</td>\n",
       "      <td>50000</td>\n",
       "      <td>Remote</td>\n",
       "      <td>M</td>\n",
       "      <td>Data Analysis</td>\n",
       "    </tr>\n",
       "    <tr>\n",
       "      <th>8</th>\n",
       "      <td>2024</td>\n",
       "      <td>Entry-level</td>\n",
       "      <td>Insight Analyst</td>\n",
       "      <td>40000</td>\n",
       "      <td>Remote</td>\n",
       "      <td>M</td>\n",
       "      <td>Data Analysis</td>\n",
       "    </tr>\n",
       "    <tr>\n",
       "      <th>9</th>\n",
       "      <td>2024</td>\n",
       "      <td>Senior</td>\n",
       "      <td>Data Engineer</td>\n",
       "      <td>276000</td>\n",
       "      <td>In-person</td>\n",
       "      <td>M</td>\n",
       "      <td>Data Engineering</td>\n",
       "    </tr>\n",
       "    <tr>\n",
       "      <th>10</th>\n",
       "      <td>2024</td>\n",
       "      <td>Senior</td>\n",
       "      <td>Data Engineer</td>\n",
       "      <td>148000</td>\n",
       "      <td>In-person</td>\n",
       "      <td>M</td>\n",
       "      <td>Data Engineering</td>\n",
       "    </tr>\n",
       "    <tr>\n",
       "      <th>11</th>\n",
       "      <td>2024</td>\n",
       "      <td>Senior</td>\n",
       "      <td>Research Scientist</td>\n",
       "      <td>234000</td>\n",
       "      <td>In-person</td>\n",
       "      <td>M</td>\n",
       "      <td>Data Science and Research</td>\n",
       "    </tr>\n",
       "  </tbody>\n",
       "</table>\n",
       "</div>"
      ],
      "text/plain": [
       "    work_year experience_level           job_title  salary_in_usd  \\\n",
       "7        2024      Entry-level     Insight Analyst          50000   \n",
       "8        2024      Entry-level     Insight Analyst          40000   \n",
       "9        2024           Senior       Data Engineer         276000   \n",
       "10       2024           Senior       Data Engineer         148000   \n",
       "11       2024           Senior  Research Scientist         234000   \n",
       "\n",
       "   work_setting company_size               job_category  \n",
       "7        Remote            M              Data Analysis  \n",
       "8        Remote            M              Data Analysis  \n",
       "9     In-person            M           Data Engineering  \n",
       "10    In-person            M           Data Engineering  \n",
       "11    In-person            M  Data Science and Research  "
      ]
     },
     "execution_count": 6,
     "metadata": {},
     "output_type": "execute_result"
    }
   ],
   "source": [
    "df.head()"
   ]
  },
  {
   "cell_type": "markdown",
   "id": "42697881",
   "metadata": {},
   "source": [
    "## To check randomly whether the cleaning of datset was done properly"
   ]
  },
  {
   "cell_type": "code",
   "execution_count": 7,
   "id": "ebcec129",
   "metadata": {},
   "outputs": [
    {
     "name": "stdout",
     "output_type": "stream",
     "text": [
      "       work_year experience_level                  job_title  salary_in_usd  \\\n",
      "13193       2022        Mid-level         Analytics Engineer         108000   \n",
      "12757       2022           Senior              Data Engineer         200000   \n",
      "1775        2024        Mid-level               Data Analyst          78000   \n",
      "2053        2024           Senior             Data Scientist         160000   \n",
      "9960        2023           Senior  Machine Learning Engineer         233000   \n",
      "5638        2023           Senior         Research Scientist         225000   \n",
      "7294        2023           Senior  Machine Learning Engineer         250500   \n",
      "5815        2023      Entry-level              Data Engineer          85000   \n",
      "5955        2023           Senior             Data Scientist         137500   \n",
      "12093       2023      Entry-level              Data Engineer         160000   \n",
      "13367       2022           Senior          Applied Scientist         212800   \n",
      "715         2024           Senior               Data Analyst          75000   \n",
      "958         2024      Entry-level               Data Analyst          65000   \n",
      "7367        2023           Senior             Data Scientist         203500   \n",
      "1993        2024        Mid-level              Data Engineer          84000   \n",
      "2690        2024           Senior  Machine Learning Engineer         230000   \n",
      "2007        2024        Mid-level             Data Scientist         106000   \n",
      "13902       2022           Senior             Data Scientist         185100   \n",
      "8777        2023           Senior               Data Analyst         138860   \n",
      "3388        2024           Senior              Data Engineer         260000   \n",
      "\n",
      "      work_setting company_size               job_category  \n",
      "13193       Remote            M  Leadership and Management  \n",
      "12757    In-person            M           Data Engineering  \n",
      "1775     In-person            M              Data Analysis  \n",
      "2053     In-person            M  Data Science and Research  \n",
      "9960     In-person            M    Machine Learning and AI  \n",
      "5638     In-person            M  Data Science and Research  \n",
      "7294     In-person            M    Machine Learning and AI  \n",
      "5815        Remote            M           Data Engineering  \n",
      "5955     In-person            M  Data Science and Research  \n",
      "12093    In-person            M           Data Engineering  \n",
      "13367       Remote            M  Data Science and Research  \n",
      "715      In-person            M              Data Analysis  \n",
      "958         Remote            M              Data Analysis  \n",
      "7367     In-person            M  Data Science and Research  \n",
      "1993     In-person            M           Data Engineering  \n",
      "2690        Remote            M    Machine Learning and AI  \n",
      "2007     In-person            M  Data Science and Research  \n",
      "13902       Remote            M  Data Science and Research  \n",
      "8777     In-person            M              Data Analysis  \n",
      "3388     In-person            M           Data Engineering  \n"
     ]
    }
   ],
   "source": [
    "# Randomly select a specified number of rows from the DataFrame\n",
    "random_subset = df.sample(n=20)  # Selecting 5 random rows, you can adjust the number as needed\n",
    "\n",
    "# Print the random subset of data\n",
    "print(random_subset)"
   ]
  },
  {
   "cell_type": "markdown",
   "id": "77deccf5",
   "metadata": {},
   "source": [
    "## Next, we print out the different values for the quantiles, mean, etc."
   ]
  },
  {
   "cell_type": "code",
   "execution_count": 8,
   "id": "28215e52",
   "metadata": {},
   "outputs": [
    {
     "data": {
      "text/plain": [
       "count     11430.000000\n",
       "mean     156352.829396\n",
       "std       60597.725778\n",
       "min       20000.000000\n",
       "25%      112200.000000\n",
       "50%      148000.000000\n",
       "75%      190000.000000\n",
       "max      450000.000000\n",
       "Name: salary_in_usd, dtype: float64"
      ]
     },
     "execution_count": 8,
     "metadata": {},
     "output_type": "execute_result"
    }
   ],
   "source": [
    "df['salary_in_usd'].describe()"
   ]
  },
  {
   "cell_type": "markdown",
   "id": "c111e968",
   "metadata": {},
   "source": [
    "## Next, we define the quantiles so that we can drop any outliers."
   ]
  },
  {
   "cell_type": "code",
   "execution_count": 9,
   "id": "1a871390",
   "metadata": {},
   "outputs": [
    {
     "data": {
      "text/plain": [
       "(11349, 7)"
      ]
     },
     "execution_count": 9,
     "metadata": {},
     "output_type": "execute_result"
    }
   ],
   "source": [
    "salary = df['salary_in_usd']\n",
    "Q1 = df['salary_in_usd'].quantile(0.20)\n",
    "Q3 = df['salary_in_usd'].quantile(0.80)\n",
    "IQR = Q3 - Q1\n",
    "outliers_salary = df[(df['salary_in_usd'] < (Q1 - 1.5 * IQR)) | (df['salary_in_usd'] > (Q3 + 1.5 * IQR))]\n",
    "\n",
    "df = df.drop(outliers_salary.index)\n",
    "df.shape"
   ]
  },
  {
   "cell_type": "code",
   "execution_count": 10,
   "id": "3f6c4d1d",
   "metadata": {
    "scrolled": true
   },
   "outputs": [
    {
     "data": {
      "text/html": [
       "<div>\n",
       "<style scoped>\n",
       "    .dataframe tbody tr th:only-of-type {\n",
       "        vertical-align: middle;\n",
       "    }\n",
       "\n",
       "    .dataframe tbody tr th {\n",
       "        vertical-align: top;\n",
       "    }\n",
       "\n",
       "    .dataframe thead th {\n",
       "        text-align: right;\n",
       "    }\n",
       "</style>\n",
       "<table border=\"1\" class=\"dataframe\">\n",
       "  <thead>\n",
       "    <tr style=\"text-align: right;\">\n",
       "      <th></th>\n",
       "      <th>work_year</th>\n",
       "      <th>experience_level</th>\n",
       "      <th>job_title</th>\n",
       "      <th>salary_in_usd</th>\n",
       "      <th>work_setting</th>\n",
       "      <th>company_size</th>\n",
       "      <th>job_category</th>\n",
       "    </tr>\n",
       "  </thead>\n",
       "  <tbody>\n",
       "    <tr>\n",
       "      <th>7</th>\n",
       "      <td>2024</td>\n",
       "      <td>Entry-level</td>\n",
       "      <td>Insight Analyst</td>\n",
       "      <td>50000</td>\n",
       "      <td>Remote</td>\n",
       "      <td>M</td>\n",
       "      <td>Data Analysis</td>\n",
       "    </tr>\n",
       "    <tr>\n",
       "      <th>8</th>\n",
       "      <td>2024</td>\n",
       "      <td>Entry-level</td>\n",
       "      <td>Insight Analyst</td>\n",
       "      <td>40000</td>\n",
       "      <td>Remote</td>\n",
       "      <td>M</td>\n",
       "      <td>Data Analysis</td>\n",
       "    </tr>\n",
       "    <tr>\n",
       "      <th>9</th>\n",
       "      <td>2024</td>\n",
       "      <td>Senior</td>\n",
       "      <td>Data Engineer</td>\n",
       "      <td>276000</td>\n",
       "      <td>In-person</td>\n",
       "      <td>M</td>\n",
       "      <td>Data Engineering</td>\n",
       "    </tr>\n",
       "    <tr>\n",
       "      <th>10</th>\n",
       "      <td>2024</td>\n",
       "      <td>Senior</td>\n",
       "      <td>Data Engineer</td>\n",
       "      <td>148000</td>\n",
       "      <td>In-person</td>\n",
       "      <td>M</td>\n",
       "      <td>Data Engineering</td>\n",
       "    </tr>\n",
       "    <tr>\n",
       "      <th>11</th>\n",
       "      <td>2024</td>\n",
       "      <td>Senior</td>\n",
       "      <td>Research Scientist</td>\n",
       "      <td>234000</td>\n",
       "      <td>In-person</td>\n",
       "      <td>M</td>\n",
       "      <td>Data Science and Research</td>\n",
       "    </tr>\n",
       "  </tbody>\n",
       "</table>\n",
       "</div>"
      ],
      "text/plain": [
       "    work_year experience_level           job_title  salary_in_usd  \\\n",
       "7        2024      Entry-level     Insight Analyst          50000   \n",
       "8        2024      Entry-level     Insight Analyst          40000   \n",
       "9        2024           Senior       Data Engineer         276000   \n",
       "10       2024           Senior       Data Engineer         148000   \n",
       "11       2024           Senior  Research Scientist         234000   \n",
       "\n",
       "   work_setting company_size               job_category  \n",
       "7        Remote            M              Data Analysis  \n",
       "8        Remote            M              Data Analysis  \n",
       "9     In-person            M           Data Engineering  \n",
       "10    In-person            M           Data Engineering  \n",
       "11    In-person            M  Data Science and Research  "
      ]
     },
     "execution_count": 10,
     "metadata": {},
     "output_type": "execute_result"
    }
   ],
   "source": [
    "df.head()"
   ]
  },
  {
   "cell_type": "markdown",
   "id": "8797faee",
   "metadata": {},
   "source": [
    "## Then we print the new quantiles, mean, median,etc."
   ]
  },
  {
   "cell_type": "code",
   "execution_count": 11,
   "id": "9c351d1b",
   "metadata": {},
   "outputs": [
    {
     "data": {
      "text/plain": [
       "count     11349.000000\n",
       "mean     154699.407877\n",
       "std       57494.419409\n",
       "min       20000.000000\n",
       "25%      112000.000000\n",
       "50%      147000.000000\n",
       "75%      190000.000000\n",
       "max      345400.000000\n",
       "Name: salary_in_usd, dtype: float64"
      ]
     },
     "execution_count": 11,
     "metadata": {},
     "output_type": "execute_result"
    }
   ],
   "source": [
    "df['salary_in_usd'].describe()"
   ]
  },
  {
   "cell_type": "code",
   "execution_count": null,
   "id": "a4a32470",
   "metadata": {},
   "outputs": [],
   "source": []
  }
 ],
 "metadata": {
  "kernelspec": {
   "display_name": "Python 3 (ipykernel)",
   "language": "python",
   "name": "python3"
  },
  "language_info": {
   "codemirror_mode": {
    "name": "ipython",
    "version": 3
   },
   "file_extension": ".py",
   "mimetype": "text/x-python",
   "name": "python",
   "nbconvert_exporter": "python",
   "pygments_lexer": "ipython3",
   "version": "3.11.5"
  }
 },
 "nbformat": 4,
 "nbformat_minor": 5
}
